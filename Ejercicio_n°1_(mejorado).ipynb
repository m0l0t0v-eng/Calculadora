{
  "nbformat": 4,
  "nbformat_minor": 0,
  "metadata": {
    "colab": {
      "provenance": [],
      "authorship_tag": "ABX9TyOozSZvKNOAmAgd9n1R0E7t",
      "include_colab_link": true
    },
    "kernelspec": {
      "name": "python3",
      "display_name": "Python 3"
    },
    "language_info": {
      "name": "python"
    }
  },
  "cells": [
    {
      "cell_type": "markdown",
      "metadata": {
        "id": "view-in-github",
        "colab_type": "text"
      },
      "source": [
        "<a href=\"https://colab.research.google.com/github/m0l0t0v-eng/Calculadora/blob/Mejoras-de-c%C3%B3digos/Ejercicio_n%C2%B01_(mejorado).ipynb\" target=\"_parent\"><img src=\"https://colab.research.google.com/assets/colab-badge.svg\" alt=\"Open In Colab\"/></a>"
      ]
    },
    {
      "cell_type": "code",
      "execution_count": null,
      "metadata": {
        "id": "5Wgg2jR-QA7T"
      },
      "outputs": [],
      "source": [
        "import json\n",
        "from collections import Counter\n",
        "\n",
        "def obtener_input(mensaje):\n",
        "    \"\"\"Solicita una entrada al usuario y verifica que no esté vacía.\"\"\"\n",
        "    while True:\n",
        "        respuesta = input(mensaje).strip()\n",
        "        if respuesta:\n",
        "            return respuesta\n",
        "        print(\"Por favor, ingrese un valor válido.\")\n",
        "\n",
        "def realizar_encuesta():\n",
        "    \"\"\"Recopila respuestas de los usuarios sobre su película favorita.\"\"\"\n",
        "    respuestas = []\n",
        "\n",
        "    while True:\n",
        "        nombre = obtener_input(\"Ingrese su nombre: \")\n",
        "        pelicula = obtener_input(\"¿Cuál es su película favorita?: \")\n",
        "        respuesta = {\n",
        "            \"nombre\": nombre,\n",
        "            \"pelicula\": pelicula\n",
        "        }\n",
        "\n",
        "        respuestas.append(respuesta)\n",
        "\n",
        "        while True:\n",
        "            continuar = input(\"¿Desea ingresar otra respuesta? (s/n): \").lower()\n",
        "            if continuar in ['s', 'n']:\n",
        "                break\n",
        "            print(\"Ingrese 's' para continuar o 'n' para terminar.\")\n",
        "\n",
        "        if continuar == 'n':\n",
        "            break\n",
        "\n",
        "    return respuestas\n",
        "\n",
        "def mostrar_resultados(respuestas):\n",
        "    \"\"\"Muestra los resultados de la encuesta.\"\"\"\n",
        "    print(\"\\n--- RESULTADOS DE LA ENCUESTA ---\")\n",
        "    for i, respuesta in enumerate(respuestas, 1):\n",
        "        print(f\"{i}. {respuesta['nombre']} eligió '{respuesta['pelicula']}' como su película favorita.\")\n",
        "\n",
        "def mostrar_estadisticas(respuestas):\n",
        "    \"\"\"Muestra estadísticas sobre cuántas veces se eligió cada película.\"\"\"\n",
        "    peliculas = [respuesta[\"pelicula\"] for respuesta in respuestas]\n",
        "    conteo = Counter(peliculas)\n",
        "\n",
        "    print(\"\\n--- ESTADÍSTICAS DE LA ENCUESTA ---\")\n",
        "    for pelicula, cantidad in conteo.items():\n",
        "        print(f\"'{pelicula}' fue elegida {cantidad} veces.\")\n",
        "\n",
        "def guardar_respuestas(respuestas, archivo=\"resultados.json\"):\n",
        "    \"\"\"Guarda las respuestas en un archivo JSON.\"\"\"\n",
        "    with open(archivo, \"w\", encoding=\"utf-8\") as f:\n",
        "        json.dump(respuestas, f, indent=4, ensure_ascii=False)\n",
        "    print(f\"\\nRespuestas guardadas en '{archivo}'.\")\n",
        "\n",
        "def main():\n",
        "    \"\"\"Función principal para ejecutar la encuesta.\"\"\"\n",
        "    datos = realizar_encuesta()\n",
        "    mostrar_resultados(datos)\n",
        "    mostrar_estadisticas(datos)\n",
        "    guardar_respuestas(datos)\n",
        "\n",
        "if __name__ == \"__main__\":\n",
        "    main()\n"
      ]
    }
  ]
}