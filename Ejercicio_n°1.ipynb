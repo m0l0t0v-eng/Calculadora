{
  "nbformat": 4,
  "nbformat_minor": 0,
  "metadata": {
    "colab": {
      "provenance": [],
      "authorship_tag": "ABX9TyNGg+gbTuijSwdW92hupxt0",
      "include_colab_link": true
    },
    "kernelspec": {
      "name": "python3",
      "display_name": "Python 3"
    },
    "language_info": {
      "name": "python"
    }
  },
  "cells": [
    {
      "cell_type": "markdown",
      "metadata": {
        "id": "view-in-github",
        "colab_type": "text"
      },
      "source": [
        "<a href=\"https://colab.research.google.com/github/m0l0t0v-eng/Calculadora/blob/main/Ejercicio_n%C2%B01.ipynb\" target=\"_parent\"><img src=\"https://colab.research.google.com/assets/colab-badge.svg\" alt=\"Open In Colab\"/></a>"
      ]
    },
    {
      "cell_type": "code",
      "execution_count": null,
      "metadata": {
        "id": "P5rACPpdNZ4E"
      },
      "outputs": [],
      "source": [
        "def realizar_encuesta():\n",
        "    respuestas = []  #Lista que guardará diccionarios\n",
        "\n",
        "    while True:\n",
        "        nombre = input(\"Ingrese su nombre: \")\n",
        "        pelicula = input(\"¿Cuál es su película favorita?: \")\n",
        "        respuesta = {\n",
        "            \"nombre\": nombre,\n",
        "            \"pelicula\": pelicula\n",
        "        }\n",
        "\n",
        "        respuestas.append(respuesta)\n",
        "\n",
        "        continuar = input(\"¿Desea ingresar otra respuesta? (s/n): \").lower()\n",
        "        if continuar != 's':\n",
        "            break\n",
        "    return respuestas\n",
        "\n",
        "def mostrar_resultados(respuestas):\n",
        "    print(\"\\n--- RESULTADOS DE LA ENCUESTA ---\")\n",
        "    for i, respuesta in enumerate(respuestas, 1):\n",
        "        print(f\"{i}. {respuesta['nombre']} eligió '{respuesta['pelicula']}' como su película favorita.\")\n",
        "\n",
        "def main():\n",
        "    datos = realizar_encuesta()\n",
        "    mostrar_resultados(datos)\n",
        "\n",
        "if __name__ == \"__main__\":\n",
        "    main()"
      ]
    }
  ]
}